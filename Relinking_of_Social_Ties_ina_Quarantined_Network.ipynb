{
  "nbformat": 4,
  "nbformat_minor": 0,
  "metadata": {
    "colab": {
      "name": "Relinking of Social Ties ina Quarantined Network.ipynb",
      "provenance": [],
      "private_outputs": true,
      "collapsed_sections": []
    },
    "kernelspec": {
      "name": "python3",
      "display_name": "Python 3"
    },
    "accelerator": "GPU"
  },
  "cells": [
    {
      "cell_type": "markdown",
      "metadata": {
        "id": "yR3LIBMNatqM",
        "colab_type": "text"
      },
      "source": [
        "In this part of the report, we import our responses from google form into a csv file in an attempt to organize, evaluate and compare them. We will be using combination of a few python libraries including pandas, matplotlib and networkx, to build a network based on the responses we have received.\n"
      ]
    },
    {
      "cell_type": "markdown",
      "metadata": {
        "id": "FfxTo6Zmasc8",
        "colab_type": "text"
      },
      "source": [
        "So, on the basis of the 10 questions we asked our participants, we will form an edge between them with the weight of the edge corresponding to the number of similar answers. No similar answers will result in no edge being formed between them.\n"
      ]
    },
    {
      "cell_type": "markdown",
      "metadata": {
        "id": "vvFibeOdiIpm",
        "colab_type": "text"
      },
      "source": [
        "We create an edge list as a list of 3-tuples (x,y,z) where x and y represents the two individuals under observation and z represents the weight. The tuples are going to be symmetric so (x,y,z) = (y,x,z). "
      ]
    },
    {
      "cell_type": "markdown",
      "metadata": {
        "id": "K-d6WcaziuF4",
        "colab_type": "text"
      },
      "source": [
        "We start off by computing z for all the (300C2) = 44,850 combination of nodes. For each node x, we iterate the loop over all the other 299 nodes. In each of these iterations, we loop over each of the 10 columns of the survey and if their answer matches, we increment the z counter. This is shown in the code below \n"
      ]
    },
    {
      "cell_type": "code",
      "metadata": {
        "id": "iGBjcLSP7O0F",
        "colab_type": "code",
        "colab": {}
      },
      "source": [
        "import pandas as pd\n",
        "import networkx as nx\n",
        "import matplotlib.pyplot as plt\n",
        "from graphviz import Digraph\n",
        "import seaborn as sns\n",
        "\n"
      ],
      "execution_count": null,
      "outputs": []
    },
    {
      "cell_type": "code",
      "metadata": {
        "id": "6mdXFs629fV0",
        "colab_type": "code",
        "colab": {}
      },
      "source": [
        "from google.colab import files\n",
        "uploaded = files.upload()\n"
      ],
      "execution_count": null,
      "outputs": []
    },
    {
      "cell_type": "code",
      "metadata": {
        "id": "uv_xW2hI9sZ8",
        "colab_type": "code",
        "colab": {}
      },
      "source": [
        "import io\n",
        "df = pd.read_csv(\"Relinking of Social Ties in a Quarantined Network.csv\")\n",
        "#df = pd.read_csv(r\"C:\\Users\\Aniqa Ahsan\\Sem8\\networks\\Relinking of Social Ties in a Quarantined Network.csv\",engine = 'python')"
      ],
      "execution_count": null,
      "outputs": []
    },
    {
      "cell_type": "code",
      "metadata": {
        "id": "QUtFEms49yy-",
        "colab_type": "code",
        "colab": {}
      },
      "source": [
        "print(df.head())\n",
        "print(df.columns)"
      ],
      "execution_count": null,
      "outputs": []
    },
    {
      "cell_type": "code",
      "metadata": {
        "id": "r6scpfiiFkO_",
        "colab_type": "code",
        "colab": {}
      },
      "source": [
        "df2 = df[0:4]\n",
        "\n",
        "\n",
        "\n",
        "del df2['Timestamp']\n",
        "del df2['Gender']\n",
        "\n",
        "\n",
        "del df['Timestamp']\n",
        "del df['Gender']"
      ],
      "execution_count": null,
      "outputs": []
    },
    {
      "cell_type": "code",
      "metadata": {
        "id": "F5ORW00tFrcV",
        "colab_type": "code",
        "colab": {}
      },
      "source": [
        "print(df2.loc[1])"
      ],
      "execution_count": null,
      "outputs": []
    },
    {
      "cell_type": "markdown",
      "metadata": {
        "id": "9OwcQX62kvkr",
        "colab_type": "text"
      },
      "source": [
        "Now, we observe the 44,850 entries of our edge list and iterate over them. In each iteration, (x,y,z) of each tuple represents the two nodes and their weights computed. We create a new empty Graph, G, on python networkx library below and run the G.addedge function in all iterations with parameters being the two nodes and their weights"
      ]
    },
    {
      "cell_type": "code",
      "metadata": {
        "id": "4lFNntJ8_CSk",
        "colab_type": "code",
        "colab": {}
      },
      "source": [
        "G=nx.Graph()\n",
        "for i in range(0,300):#(df.index): \n",
        "  for j in range(i+1,301):#(df.index):\n",
        "    z = 0\n",
        "    for k in range(0,6):\n",
        "      if df.loc[i][k]==df.loc[j][k]:\n",
        "        z=z+1\n",
        "    for k in range(7,9):\n",
        "      if df.loc[i][k]==df.loc[j][k]:\n",
        "        z=z+1\n",
        "    same=False\n",
        "    x=''\n",
        "    y=''\n",
        "    x = df.loc[i][k]\n",
        "    y = df.loc[j][k]\n",
        "    x=str(x)\n",
        "    y=str(y)\n",
        "    x=x.split(';')\n",
        "    y=y.split(';')\n",
        "\n",
        "    for a in x:\n",
        "        for b in y:\n",
        "            if a==b:\n",
        "                same=True;\n",
        "    \n",
        "    if (same==True):\n",
        "      z=z+1\n",
        "    G.add_weighted_edges_from([(i,j,z)])\n",
        "\n",
        "\n",
        "#G.remove_edges_from(nx.selfloop_edges(G))\n"
      ],
      "execution_count": null,
      "outputs": []
    },
    {
      "cell_type": "markdown",
      "metadata": {
        "id": "fOdGoDVUlo_i",
        "colab_type": "text"
      },
      "source": [
        "Now our graph is ready, we will show the graph by plotting it with matplotlib. First, we will plot the complete graph "
      ]
    },
    {
      "cell_type": "code",
      "metadata": {
        "id": "arw6xDa5e47-",
        "colab_type": "code",
        "colab": {}
      },
      "source": [
        "\n",
        "#nx.draw_random(G,node_color='r',node_size=1,with_labels=False,width=0.1,style='dashed')\n",
        "\n"
      ],
      "execution_count": null,
      "outputs": []
    },
    {
      "cell_type": "code",
      "metadata": {
        "id": "5A51IBhTgwlU",
        "colab_type": "code",
        "colab": {}
      },
      "source": [
        "#sns.distplot(nx.degree_histogram(G), kde=False, bins = 50)"
      ],
      "execution_count": null,
      "outputs": []
    },
    {
      "cell_type": "code",
      "metadata": {
        "id": "Q7D8WZsvkKBC",
        "colab_type": "code",
        "colab": {}
      },
      "source": [
        "#print('Average Path length is: ' ,nx.average_shortest_path_length(G))\n",
        "#print('Average clustering is: ', nx.average_clustering(G))\n",
        "print(G.order())"
      ],
      "execution_count": null,
      "outputs": []
    },
    {
      "cell_type": "markdown",
      "metadata": {
        "id": "JMqDMxuvl225",
        "colab_type": "text"
      },
      "source": [
        "Now we only plot those who have atleast more than 3 similarities i.e. the edge has weight of 3 or greater than that"
      ]
    },
    {
      "cell_type": "code",
      "metadata": {
        "id": "jLTKN7FqmAdR",
        "colab_type": "code",
        "colab": {}
      },
      "source": [
        "G_1 = nx.Graph()\n",
        "\n",
        "for (u,v,d) in G.edges(data=True):\n",
        "  \n",
        "  if d['weight'] >= 3:\n",
        "    G_1.add_weighted_edges_from([(u,v,d['weight'])])\n",
        "#print(G_1.degree())\n",
        "#G_1.remove_edges_from(nx.selfloop_edges(G_1))"
      ],
      "execution_count": null,
      "outputs": []
    },
    {
      "cell_type": "code",
      "metadata": {
        "id": "m7fQo3fqHOcG",
        "colab_type": "code",
        "colab": {}
      },
      "source": [
        "\n",
        "nx.draw_random(G_1,node_color='r',node_size=1,with_labels=False,width=0.1,style='dashed')"
      ],
      "execution_count": null,
      "outputs": []
    },
    {
      "cell_type": "code",
      "metadata": {
        "id": "ljwwWRrKfWyE",
        "colab_type": "code",
        "colab": {}
      },
      "source": [
        "sns.distplot(nx.degree_histogram(G_1),kde=False,  bins = 25)"
      ],
      "execution_count": null,
      "outputs": []
    },
    {
      "cell_type": "code",
      "metadata": {
        "id": "q7ca-hoBkNHo",
        "colab_type": "code",
        "colab": {}
      },
      "source": [
        "print('Is the Graph connected? ',nx.is_connected(G_1))\n",
        "print('The number of connected components are ',nx.number_connected_components(G_1))\n",
        "print('Number of edges needed to be removed to make it a disconnected graph are ',nx.edge_connectivity(G_1))\n",
        "print('Average Path length is: ' ,nx.average_shortest_path_length(G_1))\n",
        "print('Average clustering is: ', nx.average_clustering(G_1))\n",
        "print(\"Total number of edges are: \", G_1.size())\n",
        "total_nodes=G_1.order()\n",
        "degrees = [val for (node, val) in G_1.degree()]\n",
        "total_degrees = sum(degrees)\n",
        "avg=total_degrees/total_nodes\n",
        "print(total_degrees)\n",
        "print(total_nodes)\n",
        "print(avg)#nx.omega(G_1)\n",
        "#print('Small World Coeffcient is: ', nx.algorithms.smallworld.omega(G_1))"
      ],
      "execution_count": null,
      "outputs": []
    },
    {
      "cell_type": "markdown",
      "metadata": {
        "id": "6sq24XW8mC-E",
        "colab_type": "text"
      },
      "source": [
        "Now we only plot those who have atleast more than 6 similarities i.e. the edge has weight of 6 or greater than that"
      ]
    },
    {
      "cell_type": "code",
      "metadata": {
        "id": "8J_kory6mIGT",
        "colab_type": "code",
        "colab": {}
      },
      "source": [
        "G_2 = nx.Graph()\n",
        "\n",
        "for (u,v,d) in G.edges(data=True):\n",
        "  \n",
        "  if d['weight'] >= 6:\n",
        "    G_2.add_weighted_edges_from([(u,v,d['weight'])])\n",
        "\n",
        "#G_2.remove_edges_from(nx.selfloop_edges(G_2))"
      ],
      "execution_count": null,
      "outputs": []
    },
    {
      "cell_type": "code",
      "metadata": {
        "id": "lP51kIioHSQ8",
        "colab_type": "code",
        "colab": {}
      },
      "source": [
        "nx.draw_random(G_2,node_color='r',node_size=1,with_labels=False,width=0.1,style='dashed')\n"
      ],
      "execution_count": null,
      "outputs": []
    },
    {
      "cell_type": "code",
      "metadata": {
        "id": "7qMfv1PefSpm",
        "colab_type": "code",
        "colab": {}
      },
      "source": [
        "sns.distplot(nx.degree_histogram(G_2), kde=False, bins = 25)"
      ],
      "execution_count": null,
      "outputs": []
    },
    {
      "cell_type": "code",
      "metadata": {
        "id": "3QQtq7_FkQT6",
        "colab_type": "code",
        "colab": {}
      },
      "source": [
        "print('Is the Graph connected? ',nx.is_connected(G_2))\n",
        "print('The number of connected components are ',nx.number_connected_components(G_2))\n",
        "print('Number of edges needed to be removed to make it a disconnected graph are ',nx.edge_connectivity(G_2)) \n",
        "#print('Average Path length is: ' ,nx.average_shortest_path_length(G_2))\n",
        "#print('Average clustering is: ', nx.average_clustering(G_2))\n",
        "print(\"Total number of edges are: \", G_2.size())\n",
        "#print(G_2.order())\n",
        "# print('Small World Coeffcient is: ', nx.omega(G_2))\n",
        "total_nodes=G_2.order()\n",
        "degrees = [val for (node, val) in G_2.degree()]\n",
        "total_degrees = sum(degrees)\n",
        "avg=total_degrees/total_nodes\n",
        "print(total_degrees)\n",
        "print(total_nodes)\n",
        "print(avg)"
      ],
      "execution_count": null,
      "outputs": []
    },
    {
      "cell_type": "markdown",
      "metadata": {
        "id": "MZFJDUZmmKwL",
        "colab_type": "text"
      },
      "source": [
        "Now we only plot those whose answers are similar to all the 9 questions"
      ]
    },
    {
      "cell_type": "code",
      "metadata": {
        "id": "fxaQ1lcWmTF3",
        "colab_type": "code",
        "colab": {}
      },
      "source": [
        "G_3 = nx.Graph(incoming_graph_data=None)\n",
        "for (u,v,d) in G.edges(data=True):\n",
        "  if d['weight'] == 9:\n",
        "    G_3.add_weighted_edges_from([(u,v,d['weight'])])\n",
        "\n",
        "G_3.remove_edges_from(nx.selfloop_edges(G_3))\n"
      ],
      "execution_count": null,
      "outputs": []
    },
    {
      "cell_type": "code",
      "metadata": {
        "id": "wy-6vPGnHUig",
        "colab_type": "code",
        "colab": {}
      },
      "source": [
        "nx.draw_random(G_3,node_color='r',node_size=1,with_labels=False,width=0.5)\n",
        "# #nx.connected_components(G_3)\n",
        "# nx.degree_histogram(G_3)\n",
        "# #nx.clustering(G_3)"
      ],
      "execution_count": null,
      "outputs": []
    },
    {
      "cell_type": "markdown",
      "metadata": {
        "id": "R_oxwl0ZmVxd",
        "colab_type": "text"
      },
      "source": [
        "Now we analyse their properties, small world, strogly connected, etc, etc"
      ]
    },
    {
      "cell_type": "code",
      "metadata": {
        "id": "vmv7RicsG5wD",
        "colab_type": "code",
        "colab": {}
      },
      "source": [
        "print(nx.is_connected(G_3))\n",
        "print('The number of connected components are ',nx.number_connected_components(G_3))\n",
        "print(\"Total number of edges are: \", G_3.size())\n",
        "#print('Small World Coeffcient is: ', nx.omega(G_3))\n",
        "#print('Average Path length is: ' ,nx.average_shortest_path_length(G_3))\n",
        "print('Average clustering is: ', nx.average_clustering(G_3))\n",
        "print(nx.number_of_isolates(G_3))\n",
        "total_nodes=G_3.order()\n",
        "degrees = [val for (node, val) in G_3.degree()]\n",
        "total_degrees = sum(degrees)\n",
        "avg=total_degrees/total_nodes\n",
        "print(total_degrees)\n",
        "print(total_nodes)\n",
        "print(avg)\n",
        "#print('Average Path length is: ' ,nx.average_shortest_path_length(G_3))\n",
        "#degrees = G_3.degree()\n",
        "#sum_of = degrees.values()\n",
        "#for i in degrees:\n",
        "#  sum_of_edges = sum(i[1])\n",
        "#print(degrees)\n",
        "#sum_of_edges = sum(degrees.values())\n",
        "#print(sum_of_edges)\n",
        "# print('Small World Coeffcient is: ', nx.omega(G_3))"
      ],
      "execution_count": null,
      "outputs": []
    },
    {
      "cell_type": "code",
      "metadata": {
        "id": "4_DtamBLG_dS",
        "colab_type": "code",
        "colab": {}
      },
      "source": [
        ""
      ],
      "execution_count": null,
      "outputs": []
    }
  ]
}